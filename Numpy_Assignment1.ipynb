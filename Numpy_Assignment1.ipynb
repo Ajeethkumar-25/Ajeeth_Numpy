{
 "cells": [
  {
   "cell_type": "markdown",
   "id": "d4ec53ed",
   "metadata": {},
   "source": [
    "# 1. Create a null vector of size 10 but the fifth value which is 1."
   ]
  },
  {
   "cell_type": "code",
   "execution_count": 34,
   "id": "4f54e394",
   "metadata": {},
   "outputs": [],
   "source": [
    "import numpy as np"
   ]
  },
  {
   "cell_type": "code",
   "execution_count": 35,
   "id": "29bcfe80",
   "metadata": {},
   "outputs": [],
   "source": [
    "# create null vector of size 10\n",
    "vector = np.zeros(10)"
   ]
  },
  {
   "cell_type": "code",
   "execution_count": 36,
   "id": "b0f1be4a",
   "metadata": {},
   "outputs": [
    {
     "name": "stdout",
     "output_type": "stream",
     "text": [
      "[0. 0. 0. 0. 0. 0. 0. 0. 0. 0.]\n"
     ]
    }
   ],
   "source": [
    "print(vector)"
   ]
  },
  {
   "cell_type": "code",
   "execution_count": 37,
   "id": "a72800b2",
   "metadata": {},
   "outputs": [],
   "source": [
    "# set the fifth value to 1\n",
    "vector[4] = 1"
   ]
  },
  {
   "cell_type": "code",
   "execution_count": 39,
   "id": "9a463fa8",
   "metadata": {},
   "outputs": [
    {
     "name": "stdout",
     "output_type": "stream",
     "text": [
      "[0. 0. 0. 0. 1. 0. 0. 0. 0. 0.]\n"
     ]
    }
   ],
   "source": [
    "print(vector)"
   ]
  },
  {
   "cell_type": "markdown",
   "id": "64c39172",
   "metadata": {},
   "source": [
    "# 2. Create a vector with values ranging from 10 to 49."
   ]
  },
  {
   "cell_type": "code",
   "execution_count": 40,
   "id": "5731a564",
   "metadata": {},
   "outputs": [],
   "source": [
    "arr = np.arange(10,50)"
   ]
  },
  {
   "cell_type": "code",
   "execution_count": 42,
   "id": "45be3c4a",
   "metadata": {},
   "outputs": [
    {
     "name": "stdout",
     "output_type": "stream",
     "text": [
      "[10 11 12 13 14 15 16 17 18 19 20 21 22 23 24 25 26 27 28 29 30 31 32 33\n",
      " 34 35 36 37 38 39 40 41 42 43 44 45 46 47 48 49]\n"
     ]
    }
   ],
   "source": [
    "print(arr)"
   ]
  },
  {
   "cell_type": "markdown",
   "id": "823a7200",
   "metadata": {},
   "source": [
    "# 3. Create a 3x3 matrix with values ranging from 0 to 8."
   ]
  },
  {
   "cell_type": "code",
   "execution_count": 44,
   "id": "439c2676",
   "metadata": {},
   "outputs": [],
   "source": [
    "arr1 = np.array([0, 1, 2, 3, 4, 5, 6, 7, 8])"
   ]
  },
  {
   "cell_type": "code",
   "execution_count": 45,
   "id": "0c09d5b2",
   "metadata": {},
   "outputs": [
    {
     "data": {
      "text/plain": [
       "(9,)"
      ]
     },
     "execution_count": 45,
     "metadata": {},
     "output_type": "execute_result"
    }
   ],
   "source": [
    "arr1.shape "
   ]
  },
  {
   "cell_type": "code",
   "execution_count": 47,
   "id": "ddc5bdc4",
   "metadata": {},
   "outputs": [],
   "source": [
    "arr1 = arr1.reshape(3,3)"
   ]
  },
  {
   "cell_type": "code",
   "execution_count": 48,
   "id": "0c3a1c5f",
   "metadata": {},
   "outputs": [
    {
     "data": {
      "text/plain": [
       "array([[0, 1, 2],\n",
       "       [3, 4, 5],\n",
       "       [6, 7, 8]])"
      ]
     },
     "execution_count": 48,
     "metadata": {},
     "output_type": "execute_result"
    }
   ],
   "source": [
    "arr1"
   ]
  },
  {
   "cell_type": "markdown",
   "id": "15a7cc4e",
   "metadata": {},
   "source": [
    "# 4. Find indices of non-zero elements from [1,2,0,0,4,0]."
   ]
  },
  {
   "cell_type": "code",
   "execution_count": 50,
   "id": "d826091f",
   "metadata": {},
   "outputs": [],
   "source": [
    "arr2 = np.array([1,2,0,0,4,0])"
   ]
  },
  {
   "cell_type": "code",
   "execution_count": 51,
   "id": "4425c189",
   "metadata": {},
   "outputs": [
    {
     "data": {
      "text/plain": [
       "array([1, 2, 0, 0, 4, 0])"
      ]
     },
     "execution_count": 51,
     "metadata": {},
     "output_type": "execute_result"
    }
   ],
   "source": [
    "arr2"
   ]
  },
  {
   "cell_type": "code",
   "execution_count": 52,
   "id": "ba7150ee",
   "metadata": {},
   "outputs": [],
   "source": [
    "arr3 = np.nonzero(arr2)"
   ]
  },
  {
   "cell_type": "code",
   "execution_count": 54,
   "id": "6c05212e",
   "metadata": {},
   "outputs": [
    {
     "name": "stdout",
     "output_type": "stream",
     "text": [
      "(array([0, 1, 4], dtype=int64),)\n"
     ]
    }
   ],
   "source": [
    "print(arr3)"
   ]
  },
  {
   "cell_type": "markdown",
   "id": "565d105d",
   "metadata": {},
   "source": [
    "# 5. Create a 10x10 array with random values and find the minimum and maximum values."
   ]
  },
  {
   "cell_type": "code",
   "execution_count": 79,
   "id": "8d267a3b",
   "metadata": {},
   "outputs": [],
   "source": [
    "arr4 = np.random.randint(1,100,(10,10))"
   ]
  },
  {
   "cell_type": "code",
   "execution_count": 80,
   "id": "259b24fe",
   "metadata": {},
   "outputs": [
    {
     "data": {
      "text/plain": [
       "array([[99,  6, 85, 60, 90, 84, 10, 89, 59, 49],\n",
       "       [22, 54, 61, 79, 36, 79,  2, 64, 94, 61],\n",
       "       [17, 39, 59, 46,  8, 69, 83, 24, 52, 63],\n",
       "       [56, 86, 74, 21, 87, 86, 36, 83,  8, 61],\n",
       "       [45, 35, 29, 67, 37, 80, 10, 57, 71, 36],\n",
       "       [ 4, 98, 90, 27, 54, 21,  2, 49,  3, 86],\n",
       "       [12, 29,  1, 40, 75,  7, 92, 69, 27, 41],\n",
       "       [95, 98, 92, 28, 51, 81, 35,  7, 70, 64],\n",
       "       [44, 35, 77, 46, 66, 54, 84, 36, 92, 99],\n",
       "       [73, 38, 14, 70, 55,  5, 99, 75, 93, 82]])"
      ]
     },
     "execution_count": 80,
     "metadata": {},
     "output_type": "execute_result"
    }
   ],
   "source": [
    "arr4"
   ]
  },
  {
   "cell_type": "code",
   "execution_count": 81,
   "id": "aaa90718",
   "metadata": {},
   "outputs": [
    {
     "data": {
      "text/plain": [
       "1"
      ]
     },
     "execution_count": 81,
     "metadata": {},
     "output_type": "execute_result"
    }
   ],
   "source": [
    "arr4.min()"
   ]
  },
  {
   "cell_type": "code",
   "execution_count": 82,
   "id": "c5b624e1",
   "metadata": {},
   "outputs": [
    {
     "data": {
      "text/plain": [
       "99"
      ]
     },
     "execution_count": 82,
     "metadata": {},
     "output_type": "execute_result"
    }
   ],
   "source": [
    "arr4.max()"
   ]
  },
  {
   "cell_type": "markdown",
   "id": "0c5b101e",
   "metadata": {},
   "source": [
    "# 6. Create a random vector of size 30 and find the mean value."
   ]
  },
  {
   "cell_type": "code",
   "execution_count": 83,
   "id": "fa079476",
   "metadata": {},
   "outputs": [],
   "source": [
    "arr5 = np.random.random(30)"
   ]
  },
  {
   "cell_type": "code",
   "execution_count": 84,
   "id": "7436489a",
   "metadata": {},
   "outputs": [
    {
     "data": {
      "text/plain": [
       "array([0.97019435, 0.56762548, 0.59900413, 0.41749541, 0.75523089,\n",
       "       0.6499699 , 0.5712696 , 0.4341346 , 0.82377567, 0.5510884 ,\n",
       "       0.55911994, 0.18872567, 0.54703591, 0.0436595 , 0.26215747,\n",
       "       0.85409151, 0.81902103, 0.91486986, 0.96780088, 0.49199822,\n",
       "       0.39200802, 0.65255711, 0.91066048, 0.60620719, 0.23160222,\n",
       "       0.96684541, 0.00209477, 0.98943056, 0.99908056, 0.87349353])"
      ]
     },
     "execution_count": 84,
     "metadata": {},
     "output_type": "execute_result"
    }
   ],
   "source": [
    "arr5"
   ]
  },
  {
   "cell_type": "code",
   "execution_count": 85,
   "id": "509c940d",
   "metadata": {},
   "outputs": [
    {
     "name": "stdout",
     "output_type": "stream",
     "text": [
      "0.6204082760422905\n"
     ]
    }
   ],
   "source": [
    "print(arr5.mean())"
   ]
  },
  {
   "cell_type": "code",
   "execution_count": null,
   "id": "acb9bdcc",
   "metadata": {},
   "outputs": [],
   "source": []
  },
  {
   "cell_type": "code",
   "execution_count": null,
   "id": "2a7894cc",
   "metadata": {},
   "outputs": [],
   "source": [
    "\n"
   ]
  }
 ],
 "metadata": {
  "kernelspec": {
   "display_name": "Python 3 (ipykernel)",
   "language": "python",
   "name": "python3"
  },
  "language_info": {
   "codemirror_mode": {
    "name": "ipython",
    "version": 3
   },
   "file_extension": ".py",
   "mimetype": "text/x-python",
   "name": "python",
   "nbconvert_exporter": "python",
   "pygments_lexer": "ipython3",
   "version": "3.10.9"
  }
 },
 "nbformat": 4,
 "nbformat_minor": 5
}
